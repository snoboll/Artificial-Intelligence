{
 "cells": [
  {
   "cell_type": "markdown",
   "metadata": {},
   "source": [
    "## Analytical Regression\n",
    "Pierre Nugues"
   ]
  },
  {
   "cell_type": "markdown",
   "metadata": {},
   "source": [
    "### The modules"
   ]
  },
  {
   "cell_type": "code",
   "execution_count": null,
   "metadata": {},
   "outputs": [],
   "source": [
    "%matplotlib inline\n",
    "import matplotlib.pyplot as plt\n",
    "import numpy as np"
   ]
  },
  {
   "cell_type": "markdown",
   "metadata": {},
   "source": [
    "### The Functions"
   ]
  },
  {
   "cell_type": "markdown",
   "metadata": {},
   "source": [
    "#### Pseudo-inverse with a numpy Matrix"
   ]
  },
  {
   "cell_type": "code",
   "execution_count": null,
   "metadata": {},
   "outputs": [],
   "source": [
    "def regression_matrix(X, y, reg=0.0):\n",
    "    \"\"\"\n",
    "    Computes the regression using numpy matrices\n",
    "    :param observations, regularization\n",
    "    :return: weights, ŷ, se, sse\n",
    "    \"\"\"\n",
    "    if reg != 0.0:\n",
    "        print('Regularized')\n",
    "    I = np.identity(X.shape[1])\n",
    "    w = (X.T * X + reg * I).I * X.T * y\n",
    "    y_hat = X * w\n",
    "    se = np.square(y_hat - y)\n",
    "    sse = (y_hat - y).T * (y_hat - y)\n",
    "    return w, y_hat, se, sse"
   ]
  },
  {
   "cell_type": "markdown",
   "metadata": {},
   "source": [
    "#### Pseudo-inverse with a numpy Array"
   ]
  },
  {
   "cell_type": "code",
   "execution_count": null,
   "metadata": {},
   "outputs": [],
   "source": [
    "def regression_array(X, y, reg=0.0):\n",
    "    \"\"\"\n",
    "    Computes the regression using numpy arrays\n",
    "    :param observations:\n",
    "    :return: weights, ŷ, sse\n",
    "    \"\"\"\n",
    "    if reg != 0.0:\n",
    "        print('Regularized')\n",
    "    I = np.identity(X.shape[1])\n",
    "    w = (np.linalg.inv(X.T @ X + reg * I) @ X.T) @ y\n",
    "    # Or directly with pinv()\n",
    "    # w = np.linalg.pinv(X) @ y\n",
    "    y_hat = X @ w\n",
    "    se = (y_hat - y) * (y_hat - y)\n",
    "    sse = (y_hat - y).T @ (y_hat - y)\n",
    "    return w, y_hat, se, sse"
   ]
  },
  {
   "cell_type": "markdown",
   "metadata": {},
   "source": [
    "### Loading the Dataset"
   ]
  },
  {
   "cell_type": "code",
   "execution_count": null,
   "metadata": {},
   "outputs": [],
   "source": [
    "stat_en = open('../salammbo/salammbo_a_en.tsv').read().strip().split('\\n')\n",
    "stat_fr = open('../salammbo/salammbo_a_fr.tsv').read().strip().split('\\n')\n",
    "pattern = [('red', 's'), ('green', '^')]\n",
    "lang = [None] * 2"
   ]
  },
  {
   "cell_type": "markdown",
   "metadata": {},
   "source": [
    "### Computing the Regression Using Arrays"
   ]
  },
  {
   "cell_type": "code",
   "execution_count": null,
   "metadata": {
    "scrolled": true
   },
   "outputs": [],
   "source": [
    "for i, stats in enumerate([stat_en, stat_fr]):\n",
    "    observations = [[1] + list(map(float, obs.split())) for obs in stats]\n",
    "    x_l = [obs[1] for obs in observations]\n",
    "    y_l = [obs[2] for obs in observations]\n",
    "    lang[i] = plt.scatter(x_l, y_l, color=pattern[i][0], marker=pattern[i][1])\n",
    "    X = np.array(observations)[:, :-1]\n",
    "    y = np.array(observations)[:, -1]\n",
    "    w, y_hat, se, sse = regression_array(X, y)\n",
    "    print('Language:', i)\n",
    "    print('X:', X)\n",
    "    print('y:', y)\n",
    "    print('ŷ:', y_hat)\n",
    "    print('Squared errors:', se)\n",
    "    print(\"Weights\", w.T)\n",
    "    print(\"SSE\", sse)\n",
    "    plt.plot([min(x_l), max(x_l)],\n",
    "             [([1, min(x_l)] @ w), ([1, max(x_l)] @ w)],\n",
    "             color=pattern[i][0])\n",
    "plt.title(\"Salammbô\")\n",
    "plt.xlabel(\"Letter count\")\n",
    "plt.ylabel(\"A count\")\n",
    "plt.legend((lang[0], lang[1]), ('English', 'French'), loc='lower right', scatterpoints=1)\n",
    "plt.show()"
   ]
  },
  {
   "cell_type": "markdown",
   "metadata": {},
   "source": [
    "### Computing the Regression Using Matrices"
   ]
  },
  {
   "cell_type": "code",
   "execution_count": null,
   "metadata": {},
   "outputs": [],
   "source": [
    "for i, stats in enumerate([stat_en, stat_fr]):\n",
    "    observations = [[1] + list(map(float, obs.split())) for obs in stats]\n",
    "    x_l = [obs[1] for obs in observations]\n",
    "    y_l = [obs[2] for obs in observations]\n",
    "    lang[i] = plt.scatter(x_l, y_l, color=pattern[i][0], marker=pattern[i][1])\n",
    "    X = np.matrix(observations)[:, :-1]\n",
    "    y = np.matrix(observations)[:, -1]\n",
    "    w, y_hat, se, sse = regression_matrix(X, y)\n",
    "    print('Language:', i)\n",
    "    print('X:', X)\n",
    "    print('y:', y)\n",
    "    print('ŷ:', y_hat)\n",
    "    print('Squared errors:', se)\n",
    "    print(\"Weights\", w.T)\n",
    "    print(\"SSE\", sse)\n",
    "\n",
    "    w = np.array(w)\n",
    "    plt.plot([min(x_l), max(x_l)],\n",
    "             [([1, min(x_l)] @ w), ([1, max(x_l)] @ w)],\n",
    "             color=pattern[i][0])\n",
    "plt.title(\"Salammbô\")\n",
    "plt.xlabel(\"Letter count\")\n",
    "plt.ylabel(\"A count\")\n",
    "plt.legend((lang[0], lang[1]), ('English', 'French'), loc='lower right', scatterpoints=1)\n",
    "plt.show()"
   ]
  },
  {
   "cell_type": "markdown",
   "metadata": {},
   "source": [
    "### Singular Matrix"
   ]
  },
  {
   "cell_type": "code",
   "execution_count": null,
   "metadata": {},
   "outputs": [],
   "source": [
    "print('Trying regularization with a singular matrix')\n",
    "# Creation of a singular matrix by duplicating a column\n",
    "observations = [obs[0:-1] + [obs[-2]] + [obs[-1]] for obs in observations]\n",
    "X = np.array(observations)[:, :-1]\n",
    "y = np.array(observations)[:, -1]\n",
    "print('X:', X)\n",
    "print('y:', y)\n",
    "try:\n",
    "    regression_array(X, y)\n",
    "except:\n",
    "    print(np.linalg.linalg.LinAlgError)\n",
    "    print(\"Singular matrix: Could not be inverted.\")"
   ]
  },
  {
   "cell_type": "markdown",
   "metadata": {},
   "source": [
    "### Singular Matrix with Regularization"
   ]
  },
  {
   "cell_type": "markdown",
   "metadata": {},
   "source": [
    "Returns w, y_hat, squared errors, and the sum of squared errors"
   ]
  },
  {
   "cell_type": "code",
   "execution_count": null,
   "metadata": {},
   "outputs": [],
   "source": [
    "regression_array(X, y, reg=0.01)"
   ]
  },
  {
   "cell_type": "markdown",
   "metadata": {},
   "source": [
    "### Pseudo-inverse with a Quasisingular Matrix"
   ]
  },
  {
   "cell_type": "code",
   "execution_count": null,
   "metadata": {},
   "outputs": [],
   "source": [
    "# Trying regularization with a quasi singular matrix\n",
    "print('Trying regularization with a quasi singular matrix')\n",
    "np.set_printoptions(precision=10)\n",
    "observations[0][2] -= 0.000001\n",
    "X = np.array(observations)[:, :-1]\n",
    "y = np.array(observations)[:, -1]\n",
    "print('X:', X)\n",
    "print('y:', y)\n",
    "# No regularization\n",
    "regression_array(X, y)"
   ]
  },
  {
   "cell_type": "markdown",
   "metadata": {},
   "source": [
    "### With Regularization"
   ]
  },
  {
   "cell_type": "code",
   "execution_count": null,
   "metadata": {},
   "outputs": [],
   "source": [
    "# With regularization\n",
    "regression_array(X, y, reg=0.01)"
   ]
  }
 ],
 "metadata": {
  "anaconda-cloud": {},
  "kernelspec": {
   "display_name": "Python 3",
   "language": "python",
   "name": "python3"
  },
  "language_info": {
   "codemirror_mode": {
    "name": "ipython",
    "version": 3
   },
   "file_extension": ".py",
   "mimetype": "text/x-python",
   "name": "python",
   "nbconvert_exporter": "python",
   "pygments_lexer": "ipython3",
   "version": "3.7.6"
  }
 },
 "nbformat": 4,
 "nbformat_minor": 4
}

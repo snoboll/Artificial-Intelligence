{
 "cells": [
  {
   "cell_type": "markdown",
   "metadata": {},
   "source": [
    "### Polynomial fit\n",
    "Pierre Nugues"
   ]
  },
  {
   "cell_type": "markdown",
   "metadata": {},
   "source": [
    "The modules"
   ]
  },
  {
   "cell_type": "code",
   "execution_count": null,
   "metadata": {
    "collapsed": true
   },
   "outputs": [],
   "source": [
    "%matplotlib inline\n",
    "import matplotlib.pyplot as plt\n",
    "import numpy as np"
   ]
  },
  {
   "cell_type": "markdown",
   "metadata": {},
   "source": [
    "The data set"
   ]
  },
  {
   "cell_type": "code",
   "execution_count": null,
   "metadata": {
    "collapsed": false
   },
   "outputs": [],
   "source": [
    "stat = open('../salammbo/salammbo_a_fr.tsv').read().strip().split('\\n')\n",
    "observations = np.array([list(map(float, obs.split())) for obs in stat])\n",
    "observations"
   ]
  },
  {
   "cell_type": "markdown",
   "metadata": {},
   "source": [
    "We extract the points: x is the predictor (feature) and y the response"
   ]
  },
  {
   "cell_type": "code",
   "execution_count": null,
   "metadata": {
    "collapsed": false
   },
   "outputs": [],
   "source": [
    "x = observations[:, 0]\n",
    "y = observations[:, 1]\n",
    "x, y"
   ]
  },
  {
   "cell_type": "markdown",
   "metadata": {},
   "source": [
    "Fitting the data set with polynomials"
   ]
  },
  {
   "cell_type": "code",
   "execution_count": null,
   "metadata": {
    "collapsed": false
   },
   "outputs": [],
   "source": [
    "# The polynomial degrees we will test and their color\n",
    "degrees_col = [(1, 'r-'), (8, 'b-'), (9, 'g-')]\n",
    "\n",
    "f, axes = plt.subplots(len(degrees_col), sharex=True, sharey=True)\n",
    "x_vals = np.linspace(min(x), max(x), 1000)\n",
    "\n",
    "for idx, (degree, color) in enumerate(degrees_col):\n",
    "    axes[idx].scatter(x, y)\n",
    "    # We find the fitting coefficients\n",
    "    z = np.polyfit(x, y, degree)\n",
    "    # We use them to create a polynomial\n",
    "    p = np.poly1d(z)\n",
    "    legend = axes[idx].plot(x_vals, p(x_vals), color)\n",
    "plt.show()"
   ]
  },
  {
   "cell_type": "code",
   "execution_count": null,
   "metadata": {
    "collapsed": true
   },
   "outputs": [],
   "source": []
  }
 ],
 "metadata": {
  "anaconda-cloud": {},
  "kernelspec": {
   "display_name": "Python 3",
   "language": "python",
   "name": "python3"
  },
  "language_info": {
   "codemirror_mode": {
    "name": "ipython",
    "version": 3
   },
   "file_extension": ".py",
   "mimetype": "text/x-python",
   "name": "python",
   "nbconvert_exporter": "python",
   "pygments_lexer": "ipython3",
   "version": "3.6.8"
  }
 },
 "nbformat": 4,
 "nbformat_minor": 2
}
